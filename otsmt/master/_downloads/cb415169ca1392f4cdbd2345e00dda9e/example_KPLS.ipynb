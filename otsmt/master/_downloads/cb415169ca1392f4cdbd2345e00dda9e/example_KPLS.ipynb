{
  "cells": [
    {
      "cell_type": "code",
      "execution_count": null,
      "metadata": {
        "collapsed": false
      },
      "outputs": [],
      "source": [
        "%matplotlib inline"
      ]
    },
    {
      "cell_type": "markdown",
      "metadata": {},
      "source": [
        "\n# Use of KPLS\n"
      ]
    },
    {
      "cell_type": "code",
      "execution_count": null,
      "metadata": {
        "collapsed": false
      },
      "outputs": [],
      "source": [
        "from smt.sampling_methods import LHS\nfrom smt.problems import Sphere\nfrom smt.surrogate_models import KPLS\nimport numpy as np\nimport otsmt"
      ]
    },
    {
      "cell_type": "markdown",
      "metadata": {},
      "source": [
        "| Definition of Initial data\n\n"
      ]
    },
    {
      "cell_type": "code",
      "execution_count": null,
      "metadata": {
        "collapsed": false
      },
      "outputs": [],
      "source": [
        "# Construction of the DOE\nfun = Sphere(ndim=2)\nsampling = LHS(xlimits=fun.xlimits, criterion=\"m\")\nxt = sampling(40)\nyt = fun(xt)\n# Compute the gradient\nfor i in range(2):\n    yd = fun(xt, kx=i)\n    yt = np.concatenate((yt, yd), axis=1)\n       \nxv= sampling(10)"
      ]
    },
    {
      "cell_type": "markdown",
      "metadata": {},
      "source": [
        "| Training of smt model for KPLS\n\n"
      ]
    },
    {
      "cell_type": "code",
      "execution_count": null,
      "metadata": {
        "collapsed": false
      },
      "outputs": [],
      "source": [
        "sm_kpls = KPLS(theta0=[1e-2])\nsm_kpls.set_training_values(xt, yt[:,0])\nsm_kpls.train()"
      ]
    },
    {
      "cell_type": "markdown",
      "metadata": {},
      "source": [
        "| Creation of OpenTurns PythonFunction for prediction\n\n"
      ]
    },
    {
      "cell_type": "code",
      "execution_count": null,
      "metadata": {
        "collapsed": false
      },
      "outputs": [],
      "source": [
        "otkpls =  otsmt.smt2ot(sm_kpls)\notkplsprediction = otkpls.getPredictionFunction()\notkplsvariances = otkpls.getConditionalVarianceFunction()\notkplsfirstderivatives = otkpls.getPredictionDerivativesFunction(0)\notkplssecondderivatives = otkpls.getPredictionDerivativesFunction(1)\n\nprint('Predicted values by KPLS:',otkplsprediction(xv))    \nprint('Predicted variances values by KPLS:',otkplsvariances(xv))    \nprint('Predicted mean first derivatives by KPLS:',otkplsfirstderivatives(xv))    \nprint('Predicted mean second derivatives by KPLS:',otkplssecondderivatives(xv))"
      ]
    }
  ],
  "metadata": {
    "kernelspec": {
      "display_name": "Python 3",
      "language": "python",
      "name": "python3"
    },
    "language_info": {
      "codemirror_mode": {
        "name": "ipython",
        "version": 3
      },
      "file_extension": ".py",
      "mimetype": "text/x-python",
      "name": "python",
      "nbconvert_exporter": "python",
      "pygments_lexer": "ipython3",
      "version": "3.9.13"
    }
  },
  "nbformat": 4,
  "nbformat_minor": 0
}