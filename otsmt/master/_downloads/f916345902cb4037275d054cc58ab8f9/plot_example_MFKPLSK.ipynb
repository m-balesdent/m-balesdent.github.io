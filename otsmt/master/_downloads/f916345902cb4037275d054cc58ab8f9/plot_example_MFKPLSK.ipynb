{
  "cells": [
    {
      "cell_type": "code",
      "execution_count": null,
      "metadata": {
        "collapsed": false
      },
      "outputs": [],
      "source": [
        "%matplotlib inline"
      ]
    },
    {
      "cell_type": "markdown",
      "metadata": {},
      "source": [
        "\n# Use of Multi-Fidelity Kriging Partial Least Squares K\n"
      ]
    },
    {
      "cell_type": "code",
      "execution_count": null,
      "metadata": {
        "collapsed": false
      },
      "outputs": [],
      "source": [
        "from smt.applications import MFKPLSK,NestedLHS\nimport numpy as np\nimport otsmt\nimport openturns as ot"
      ]
    },
    {
      "cell_type": "markdown",
      "metadata": {},
      "source": [
        "| Definition of Initial data\n\n"
      ]
    },
    {
      "cell_type": "code",
      "execution_count": null,
      "metadata": {
        "collapsed": false
      },
      "outputs": [],
      "source": [
        "# Construction of the DOE\n# low fidelity model\ndef lf_function(x):\n\n    return (\n        0.5 * ((x * 6 - 2) ** 2) * np.sin((x * 6 - 2) * 2)\n        + (x - 0.5) * 10.0\n        - 5\n    )\n\n# high fidelity model\ndef hf_function(x):\n\n    return ((x * 6 - 2) ** 2) * np.sin((x * 6 - 2) * 2)\n\n# Problem set up\nxlimits = np.array([[0.0, 1.0]])\nxdoes = NestedLHS(nlevel=2, xlimits=xlimits, random_state=0)\nxt_c, xt_e = xdoes(7)\n\n# Evaluate the HF and LF functions\nyt_e = hf_function(xt_e)\nyt_c = lf_function(xt_c)\n\nxv_e = ot.Sample([[0.1],[0.5]])"
      ]
    },
    {
      "cell_type": "markdown",
      "metadata": {},
      "source": [
        "| Training of smt model for MFKPLSK\n\n"
      ]
    },
    {
      "cell_type": "code",
      "execution_count": null,
      "metadata": {
        "collapsed": false
      },
      "outputs": [],
      "source": [
        "# choice of number of PLS components\nncomp = 1\nsm_mfkplsk = MFKPLSK(n_comp=ncomp, theta0=ncomp * [1.0])\n\n# low-fidelity dataset names being integers from 0 to level-1\nsm_mfkplsk.set_training_values(xt_c, yt_c, name=0)\n# high-fidelity dataset without name\nsm_mfkplsk.set_training_values(xt_e, yt_e)\n\n# train the model\nsm_mfkplsk.train()"
      ]
    },
    {
      "cell_type": "markdown",
      "metadata": {},
      "source": [
        "| Creation of OpenTurns PythonFunction for prediction\n\n"
      ]
    },
    {
      "cell_type": "code",
      "execution_count": null,
      "metadata": {
        "collapsed": false
      },
      "outputs": [],
      "source": [
        "otmfkplsk = otsmt.smt2ot(sm_mfkplsk)\notmfkplskprediction = otmfkplsk.getPredictionFunction()\notmfkplskpvariances = otmfkplsk.getConditionalVarianceFunction()\notmfkplskgradient = otmfkplsk.getPredictionDerivativesFunction()\n\nprint('Predicted values by MFKPLSK:',otmfkplskprediction(xv_e))    \nprint('Predicted variances values by MFKPLSK:',otmfkplskpvariances(xv_e))    \nprint('Prediction derivatives by MFKPLSK:',otmfkplskgradient(xv_e))"
      ]
    }
  ],
  "metadata": {
    "kernelspec": {
      "display_name": "Python 3",
      "language": "python",
      "name": "python3"
    },
    "language_info": {
      "codemirror_mode": {
        "name": "ipython",
        "version": 3
      },
      "file_extension": ".py",
      "mimetype": "text/x-python",
      "name": "python",
      "nbconvert_exporter": "python",
      "pygments_lexer": "ipython3",
      "version": "3.9.13"
    }
  },
  "nbformat": 4,
  "nbformat_minor": 0
}