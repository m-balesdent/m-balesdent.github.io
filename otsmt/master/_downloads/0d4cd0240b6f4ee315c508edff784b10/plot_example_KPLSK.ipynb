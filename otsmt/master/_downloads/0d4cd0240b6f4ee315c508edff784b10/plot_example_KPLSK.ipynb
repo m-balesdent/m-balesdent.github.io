{
  "cells": [
    {
      "cell_type": "code",
      "execution_count": null,
      "metadata": {
        "collapsed": false
      },
      "outputs": [],
      "source": [
        "%matplotlib inline"
      ]
    },
    {
      "cell_type": "markdown",
      "metadata": {},
      "source": [
        "\n# Use of KPLSK\n"
      ]
    },
    {
      "cell_type": "code",
      "execution_count": null,
      "metadata": {
        "collapsed": false
      },
      "outputs": [],
      "source": [
        "from smt.sampling_methods import LHS\nfrom smt.problems import Sphere\nfrom smt.surrogate_models import KPLSK\nimport numpy as np\nimport otsmt\nimport openturns as ot"
      ]
    },
    {
      "cell_type": "markdown",
      "metadata": {},
      "source": [
        "| Definition of Initial data\n\n"
      ]
    },
    {
      "cell_type": "code",
      "execution_count": null,
      "metadata": {
        "collapsed": false
      },
      "outputs": [],
      "source": [
        "# Construction of the DOE\nfun = Sphere(ndim=2)\nsampling = LHS(xlimits=fun.xlimits, criterion=\"m\")\nxt = sampling(40)\nyt = fun(xt)\n# Compute the gradient\nfor i in range(2):\n    yd = fun(xt, kx=i)\n    yt = np.concatenate((yt, yd), axis=1)\n       \nxv = ot.Sample([[0.1,1.],[1.,2.]])"
      ]
    },
    {
      "cell_type": "markdown",
      "metadata": {},
      "source": [
        "| Training of smt model for KPLSK\n\n"
      ]
    },
    {
      "cell_type": "code",
      "execution_count": null,
      "metadata": {
        "collapsed": false
      },
      "outputs": [],
      "source": [
        "sm_kplsk = KPLSK(theta0=[1e-2])\nsm_kplsk.set_training_values(xt, yt[:,0])\nsm_kplsk.train()"
      ]
    },
    {
      "cell_type": "markdown",
      "metadata": {},
      "source": [
        "| Creation of OpenTurns PythonFunction for prediction\n\n"
      ]
    },
    {
      "cell_type": "code",
      "execution_count": null,
      "metadata": {
        "collapsed": false
      },
      "outputs": [],
      "source": [
        "otkplsk = otsmt.smt2ot(sm_kplsk)\notkplskprediction = otkplsk.getPredictionFunction()\notkplskvariances = otkplsk.getConditionalVarianceFunction()\notkplskfirstderivatives = otkplsk.getPredictionDerivativesFunction(0)\notkplsksecondderivatives = otkplsk.getPredictionDerivativesFunction(1)\n\nprint('Predicted values by KPLSK:',otkplskprediction(xv))    \nprint('Predicted variances values by KPLSK:',otkplskvariances(xv))    \nprint('Predicted mean first derivatives by KPLSK:',otkplskfirstderivatives(xv))    \nprint('Predicted mean second derivatives by KPLSK:',otkplsksecondderivatives(xv))"
      ]
    }
  ],
  "metadata": {
    "kernelspec": {
      "display_name": "Python 3",
      "language": "python",
      "name": "python3"
    },
    "language_info": {
      "codemirror_mode": {
        "name": "ipython",
        "version": 3
      },
      "file_extension": ".py",
      "mimetype": "text/x-python",
      "name": "python",
      "nbconvert_exporter": "python",
      "pygments_lexer": "ipython3",
      "version": "3.9.13"
    }
  },
  "nbformat": 4,
  "nbformat_minor": 0
}