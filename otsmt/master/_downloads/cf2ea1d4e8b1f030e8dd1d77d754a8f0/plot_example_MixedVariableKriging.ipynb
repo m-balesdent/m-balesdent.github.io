{
  "cells": [
    {
      "cell_type": "code",
      "execution_count": null,
      "metadata": {
        "collapsed": false
      },
      "outputs": [],
      "source": [
        "%matplotlib inline"
      ]
    },
    {
      "cell_type": "markdown",
      "metadata": {},
      "source": [
        "\n# Use of Mixed Variable Kriging\n"
      ]
    },
    {
      "cell_type": "code",
      "execution_count": null,
      "metadata": {
        "collapsed": false
      },
      "outputs": [],
      "source": [
        "from smt.applications.mixed_integer import MixedIntegerContext, FLOAT, ORD, ENUM\nimport numpy as np\nfrom smt.surrogate_models import KRG\n\nimport otsmt\nfrom smt.sampling_methods import LHS, Random"
      ]
    },
    {
      "cell_type": "markdown",
      "metadata": {},
      "source": [
        "| Definition of Initial data\n\n"
      ]
    },
    {
      "cell_type": "code",
      "execution_count": null,
      "metadata": {
        "collapsed": false
      },
      "outputs": [],
      "source": [
        "xtypes = [ORD, FLOAT, (ENUM, 4)]\nxlimits = [[0, 5], [0.0, 4.0], [\"blue\", \"red\", \"green\", \"yellow\"]]\n\ndef ftest(x):\n    return (x[:, 0] * x[:, 0] + x[:, 1] * x[:, 1]) * (x[:, 2] + 1)\n\n# context to create consistent DOEs and surrogate\nmixint = MixedIntegerContext(xtypes, xlimits)\n\n# DOE for training\nlhs = mixint.build_sampling_method(LHS, criterion=\"ese\")\n\nnum = mixint.get_unfolded_dimension() * 5\nprint(\"DOE point nb = {}\".format(num))\nxt = lhs(num)\nyt = ftest(xt)\n\n# DOE for validation\nrand = mixint.build_sampling_method(Random)\nxv = rand(50)\nyv = ftest(xv)"
      ]
    },
    {
      "cell_type": "markdown",
      "metadata": {},
      "source": [
        "| Training of smt model for Mixed variables \n\n"
      ]
    },
    {
      "cell_type": "code",
      "execution_count": null,
      "metadata": {
        "collapsed": false
      },
      "outputs": [],
      "source": [
        "sm_mixed = mixint.build_surrogate_model(KRG())\nsm_mixed.set_training_values(xt, yt)\nsm_mixed.train()"
      ]
    },
    {
      "cell_type": "markdown",
      "metadata": {},
      "source": [
        "| Creation of OpenTurns PythonFunction for prediction\n\n"
      ]
    },
    {
      "cell_type": "code",
      "execution_count": null,
      "metadata": {
        "collapsed": false
      },
      "outputs": [],
      "source": [
        "otmixed = otsmt.smt2ot(sm_mixed)\notmixedprediction = otmixed.getPredictionFunction()\notmixedvariances = otmixed.getConditionalVarianceFunction()\n\nprint('Predicted values by Mixed Integer:',otmixedprediction(xv))    \nprint('Predicted variances values by Mixed Intege:',otmixedvariances(xv))"
      ]
    }
  ],
  "metadata": {
    "kernelspec": {
      "display_name": "Python 3",
      "language": "python",
      "name": "python3"
    },
    "language_info": {
      "codemirror_mode": {
        "name": "ipython",
        "version": 3
      },
      "file_extension": ".py",
      "mimetype": "text/x-python",
      "name": "python",
      "nbconvert_exporter": "python",
      "pygments_lexer": "ipython3",
      "version": "3.9.13"
    }
  },
  "nbformat": 4,
  "nbformat_minor": 0
}