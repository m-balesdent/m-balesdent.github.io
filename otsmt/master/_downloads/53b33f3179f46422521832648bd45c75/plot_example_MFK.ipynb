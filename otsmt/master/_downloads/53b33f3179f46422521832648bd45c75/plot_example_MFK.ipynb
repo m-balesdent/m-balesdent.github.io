{
  "cells": [
    {
      "cell_type": "code",
      "execution_count": null,
      "metadata": {
        "collapsed": false
      },
      "outputs": [],
      "source": [
        "%matplotlib inline"
      ]
    },
    {
      "cell_type": "markdown",
      "metadata": {},
      "source": [
        "\n# Use of Multi-Fidelity Kriging\n"
      ]
    },
    {
      "cell_type": "code",
      "execution_count": null,
      "metadata": {
        "collapsed": false
      },
      "outputs": [],
      "source": [
        "from smt.applications import MFK,NestedLHS\nimport numpy as np\nimport otsmt"
      ]
    },
    {
      "cell_type": "markdown",
      "metadata": {},
      "source": [
        "| Definition of Initial data\n\n"
      ]
    },
    {
      "cell_type": "code",
      "execution_count": null,
      "metadata": {
        "collapsed": false
      },
      "outputs": [],
      "source": [
        "# Construction of the DOE\n# low fidelity model\ndef lf_function(x):\n\n    return (\n        0.5 * ((x * 6 - 2) ** 2) * np.sin((x * 6 - 2) * 2)\n        + (x - 0.5) * 10.0\n        - 5\n    )\n\n# high fidelity model\ndef hf_function(x):\n\n    return ((x * 6 - 2) ** 2) * np.sin((x * 6 - 2) * 2)\n\n# Problem set up\nxlimits = np.array([[0.0, 1.0]])\nxdoes = NestedLHS(nlevel=2, xlimits=xlimits, random_state=0)\nxt_c, xt_e = xdoes(7)\n\n# Evaluate the HF and LF functions\nyt_e = hf_function(xt_e)\nyt_c = lf_function(xt_c)\n\nxv_c, xv_e = xdoes(10)"
      ]
    },
    {
      "cell_type": "markdown",
      "metadata": {},
      "source": [
        "| Training of smt model for  Multi-Fidelity Kriging\n\n"
      ]
    },
    {
      "cell_type": "code",
      "execution_count": null,
      "metadata": {
        "collapsed": false
      },
      "outputs": [],
      "source": [
        "sm_mfk = MFK(theta0=xt_e.shape[1] * [1.0])    \n\n# low-fidelity dataset names being integers from 0 to level-1\nsm_mfk.set_training_values(xt_c, yt_c, name=0)\n# high-fidelity dataset without name\nsm_mfk.set_training_values(xt_e, yt_e)\n    \n# train the model\nsm_mfk.train()"
      ]
    },
    {
      "cell_type": "markdown",
      "metadata": {},
      "source": [
        "| Creation of OpenTurns PythonFunction for prediction\n\n"
      ]
    },
    {
      "cell_type": "code",
      "execution_count": null,
      "metadata": {
        "collapsed": false
      },
      "outputs": [],
      "source": [
        "otmfk = otsmt.smt2ot(sm_mfk)\notmfkprediction = otmfk.getPredictionFunction()\notmfkpvariances = otmfk.getConditionalVarianceFunction()\notmfkfirstderivatives = otmfk.getPredictionDerivativesFunction(0)\n\nprint('Predicted values by MFK:',otmfkprediction(xv_e))    \nprint('Predicted variances values by MFK:',otmfkpvariances(xv_e))    \nprint('Predicted mean first derivatives by MFK:',otmfkfirstderivatives(xv_e))  \n\n\n\"\"\"\nUse of Multi-Fidelity Kriging\n-----------------------------\n\"\"\""
      ]
    },
    {
      "cell_type": "code",
      "execution_count": null,
      "metadata": {
        "collapsed": false
      },
      "outputs": [],
      "source": [
        "from smt.applications import MFK,NestedLHS\nimport numpy as np\nimport otsmt\nimport matplotlib.pyplot as plt\nimport openturns as ot"
      ]
    },
    {
      "cell_type": "markdown",
      "metadata": {},
      "source": [
        "| Definition of Initial data\n\n"
      ]
    },
    {
      "cell_type": "code",
      "execution_count": null,
      "metadata": {
        "collapsed": false
      },
      "outputs": [],
      "source": [
        "# Construction of the DOE\n# low fidelity model\ndef lf_function(x):\n\n    return (\n        0.5 * ((x * 6 - 2) ** 2) * np.sin((x * 6 - 2) * 2)\n        + (x - 0.5) * 10.0\n        - 5\n    )\n\n# high fidelity model\ndef hf_function(x):\n\n    return ((x * 6 - 2) ** 2) * np.sin((x * 6 - 2) * 2)\n\n# Problem set up\nxlimits = np.array([[0.0, 1.0]])\nxdoes = NestedLHS(nlevel=2, xlimits=xlimits, random_state=0)\nxt_c, xt_e = xdoes(4)\n\n# Evaluate the HF and LF functions\nyt_e = hf_function(xt_e)\nyt_c = lf_function(xt_c)\n\nxv_e = np.linspace(xlimits[0][0],xlimits[0][1],50)[:,np.newaxis]\nyv_e  = hf_function(xv_e)"
      ]
    },
    {
      "cell_type": "markdown",
      "metadata": {},
      "source": [
        "| Training of smt model for  Multi-Fidelity Kriging\n\n"
      ]
    },
    {
      "cell_type": "code",
      "execution_count": null,
      "metadata": {
        "collapsed": false
      },
      "outputs": [],
      "source": [
        "sm_mfk = MFK(theta0=xt_e.shape[1] * [1.0])    \n\n# low-fidelity dataset names being integers from 0 to level-1\nsm_mfk.set_training_values(xt_c, yt_c, name=0)\n# high-fidelity dataset without name\nsm_mfk.set_training_values(xt_e, yt_e)\n    \n# train the model\nsm_mfk.train()"
      ]
    },
    {
      "cell_type": "markdown",
      "metadata": {},
      "source": [
        "| Creation of OpenTurns PythonFunction for prediction\n\n"
      ]
    },
    {
      "cell_type": "code",
      "execution_count": null,
      "metadata": {
        "collapsed": false
      },
      "outputs": [],
      "source": [
        "otmfk = otsmt.smt2ot(sm_mfk)\notmfkprediction = otmfk.getPredictionFunction()\notmfkpvariances = otmfk.getConditionalVarianceFunction()\notmfkfirstderivatives = otmfk.getPredictionDerivativesFunction(0)\n\nprint('Predicted values by MFK:',otmfkprediction(xv_e))    \nprint('Predicted variances values by MFK:',otmfkpvariances(xv_e))    \nprint('Predicted mean first derivatives by MFK:',otmfkfirstderivatives(xv_e))  \n\n\n\n\nplt.figure()\n\nplt.plot(xt_c,yt_c,'o',label='DoE low fidelity')\nplt.plot(xt_e,yt_e,'o',label='DoE high fidelity')\n\nplt.plot(xv_e,otmfkprediction(xv_e),label='high fidelity prediction')\nplt.plot(xv_e,yv_e,label='high fidelity true function')\nplt.legend()"
      ]
    }
  ],
  "metadata": {
    "kernelspec": {
      "display_name": "Python 3",
      "language": "python",
      "name": "python3"
    },
    "language_info": {
      "codemirror_mode": {
        "name": "ipython",
        "version": 3
      },
      "file_extension": ".py",
      "mimetype": "text/x-python",
      "name": "python",
      "nbconvert_exporter": "python",
      "pygments_lexer": "ipython3",
      "version": "3.9.13"
    }
  },
  "nbformat": 4,
  "nbformat_minor": 0
}