{
  "cells": [
    {
      "cell_type": "code",
      "execution_count": null,
      "metadata": {
        "collapsed": false
      },
      "outputs": [],
      "source": [
        "%matplotlib inline"
      ]
    },
    {
      "cell_type": "markdown",
      "metadata": {},
      "source": [
        "\n# Example 2: Use of AK - IS on Non linear oscillator\n"
      ]
    },
    {
      "cell_type": "code",
      "execution_count": null,
      "metadata": {
        "collapsed": false
      },
      "outputs": [],
      "source": [
        "import openturns as ot\nfrom openturns.viewer import View\nimport numpy as np\nimport otak\n\not.RandomGenerator.SetSeed(1)"
      ]
    },
    {
      "cell_type": "markdown",
      "metadata": {},
      "source": [
        "| Definition of Input distribution\n\n"
      ]
    },
    {
      "cell_type": "code",
      "execution_count": null,
      "metadata": {
        "collapsed": false
      },
      "outputs": [],
      "source": [
        "dist_c1=ot.Normal(1, 0.1)\ndist_c2=ot.Normal(0.1, 0.01)\ndist_m=ot.Normal(1.,0.05 )\ndist_r =ot.Normal(0.5, 0.05)\ndist_t1 =ot.Normal(1., 0.2)\ndist_F1=ot.Normal(1., 0.2)\nstd_dev = [dist_c1.getStandardDeviation()[0],dist_c2.getStandardDeviation()[0],dist_m.getStandardDeviation()[0],\n           dist_r.getStandardDeviation()[0],dist_t1.getStandardDeviation()[0],dist_F1.getStandardDeviation()[0]]\ndim_inputs=6\nmarginals = [dist_c1,dist_c2,dist_m,dist_r,dist_t1,dist_F1]\ndist_x = ot.ComposedDistribution(marginals)"
      ]
    },
    {
      "cell_type": "markdown",
      "metadata": {},
      "source": [
        "| Definition of limit state function\n\n"
      ]
    },
    {
      "cell_type": "code",
      "execution_count": null,
      "metadata": {
        "collapsed": false
      },
      "outputs": [],
      "source": [
        "def non_lin_osc(x):\n    c1 = x[0]\n    c2  = x[1]\n    m = x[2]\n    r = x[3]\n    t1 = x[4]\n    F1= x[5]\n    \n    omega = np.sqrt((c1+c2)/m)\n    \n    G = 3*r - np.abs(2*F1/(m*omega**2)*np.sin(omega*t1/2))\n    return [G]\n\n# Definition of pythonfunction\nnon_lin_osc = ot.PythonFunction(6, 1, non_lin_osc)"
      ]
    },
    {
      "cell_type": "markdown",
      "metadata": {},
      "source": [
        "| Definition of event\n\n"
      ]
    },
    {
      "cell_type": "code",
      "execution_count": null,
      "metadata": {
        "collapsed": false
      },
      "outputs": [],
      "source": [
        "vect = ot.RandomVector(dist_x)\nG = ot.CompositeRandomVector(non_lin_osc, vect)\nevent_osc = ot.ThresholdEvent(G, ot.Less(), 0.0)"
      ]
    },
    {
      "cell_type": "markdown",
      "metadata": {},
      "source": [
        "| Run of AK IS\n\n"
      ]
    },
    {
      "cell_type": "code",
      "execution_count": null,
      "metadata": {
        "collapsed": false
      },
      "outputs": [],
      "source": [
        "dim_osc = 6\nbasis = ot.ConstantBasisFactory(dim_inputs).build()\ncovarianceModel = ot.SquaredExponential([0.1]*dim_osc, [1.0])\n\nn_IS_osc = 1000\nn_DoE_osc = 40\nsim_budget_osc = 200\nverbose = False\nmy_AK_non_lin_osc = otak.AK_ISAlgorithm(event_osc,\n                                    n_IS_osc,\n                                    n_DoE_osc,\n                                    sim_budget_osc,                                                                   \n                                    basis,\n                                    covarianceModel,\n                                    ot.Cobyla(),\n                                    2,\n                                    verbose)\n\t\t\t\t\t\t\t\t\t\n\t\t\t\t\t\t\t\t\t\n#computation of probability with AK-IS\nmy_AK_non_lin_osc.compute_proba()\n\n\nprint('Probability of failure:',my_AK_non_lin_osc.getFailureProbability())\nprint('Simulation budget:',my_AK_non_lin_osc.getSimBudget())"
      ]
    }
  ],
  "metadata": {
    "kernelspec": {
      "display_name": "Python 3",
      "language": "python",
      "name": "python3"
    },
    "language_info": {
      "codemirror_mode": {
        "name": "ipython",
        "version": 3
      },
      "file_extension": ".py",
      "mimetype": "text/x-python",
      "name": "python",
      "nbconvert_exporter": "python",
      "pygments_lexer": "ipython3",
      "version": "3.9.10"
    }
  },
  "nbformat": 4,
  "nbformat_minor": 0
}