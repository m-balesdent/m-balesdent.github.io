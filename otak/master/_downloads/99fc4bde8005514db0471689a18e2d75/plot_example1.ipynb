{
  "cells": [
    {
      "cell_type": "code",
      "execution_count": null,
      "metadata": {
        "collapsed": false
      },
      "outputs": [],
      "source": [
        "%matplotlib inline"
      ]
    },
    {
      "cell_type": "markdown",
      "metadata": {},
      "source": [
        "\n# Example 1: Use of AK- MCS on Four Branch function\n"
      ]
    },
    {
      "cell_type": "code",
      "execution_count": null,
      "metadata": {
        "collapsed": false
      },
      "outputs": [],
      "source": [
        "import openturns as ot\nfrom openturns.viewer import View\nimport numpy as np\nimport otak\n\not.RandomGenerator.SetSeed(1)"
      ]
    },
    {
      "cell_type": "markdown",
      "metadata": {},
      "source": [
        "| Definition of Input distribution\n\n"
      ]
    },
    {
      "cell_type": "code",
      "execution_count": null,
      "metadata": {
        "collapsed": false
      },
      "outputs": [],
      "source": [
        "dim_inputs = 2\ndist_x = ot.Normal([0.0, 0.0], [1., 1.], ot.CorrelationMatrix(dim_inputs))\ninputVector = ot.RandomVector(dist_x)"
      ]
    },
    {
      "cell_type": "markdown",
      "metadata": {},
      "source": [
        "| Definition of limit state function\n\n"
      ]
    },
    {
      "cell_type": "code",
      "execution_count": null,
      "metadata": {
        "collapsed": false
      },
      "outputs": [],
      "source": [
        "def four_branch(x):\n    x1 = x[0]\n    x2  = x[1]\n    k = x[2]\n    g1 = 3+0.1*(x1-x2)**2-(x1+x2)/np.sqrt(2)\n    g2 = 3+0.1*(x1-x2)**2+(x1+x2)/np.sqrt(2)\n    g3 = (x1-x2)+k/np.sqrt(2)\n    g4 =(x2-x1)+k/np.sqrt(2)\n    return [min((g1,g2,g3,g4))]\n\nmy_four_branch = ot.PythonFunction(3, 1, four_branch)\n\nindex_frozen = [2]\nmy_four_branch_6 = ot.ParametricFunction(my_four_branch, index_frozen, [6])"
      ]
    },
    {
      "cell_type": "markdown",
      "metadata": {},
      "source": [
        "| Definition of event\n\n"
      ]
    },
    {
      "cell_type": "code",
      "execution_count": null,
      "metadata": {
        "collapsed": false
      },
      "outputs": [],
      "source": [
        "Y = ot.CompositeRandomVector(my_four_branch_6, inputVector)\nmy_event4b = ot.ThresholdEvent(Y,ot.Less(),0.0)"
      ]
    },
    {
      "cell_type": "markdown",
      "metadata": {},
      "source": [
        "| Run of AK MCS\n\n"
      ]
    },
    {
      "cell_type": "code",
      "execution_count": null,
      "metadata": {
        "collapsed": false
      },
      "outputs": [],
      "source": [
        "dim_4b = 2\nbasis = ot.ConstantBasisFactory(dim_4b).build()\ncovarianceModel = ot.MaternModel(dim_4b)\nn_MC_4b = 10000\nn_DoE_4b = 20\nsim_budget_4b = 200\nverbose = False\ncriterion = 2\n\nmy_AK_four_branch = otak.AK_MCSAlgorithm(my_event4b,\n                                    n_MC_4b,\n                                    n_DoE_4b,\n                                    sim_budget_4b,\n                                    basis,\n                                    covarianceModel,\n                                    criterion,\n                                    verbose)\n\nmy_AK_four_branch.compute_proba()\n\nprint('Probability of failure',my_AK_four_branch.getFailureProbability())\nprint('Simulation budget',my_AK_four_branch.getSimBudget())\nprint('Coefficient of variation',my_AK_four_branch.getCoefficientOfVariation())"
      ]
    }
  ],
  "metadata": {
    "kernelspec": {
      "display_name": "Python 3",
      "language": "python",
      "name": "python3"
    },
    "language_info": {
      "codemirror_mode": {
        "name": "ipython",
        "version": 3
      },
      "file_extension": ".py",
      "mimetype": "text/x-python",
      "name": "python",
      "nbconvert_exporter": "python",
      "pygments_lexer": "ipython3",
      "version": "3.10.4"
    }
  },
  "nbformat": 4,
  "nbformat_minor": 0
}