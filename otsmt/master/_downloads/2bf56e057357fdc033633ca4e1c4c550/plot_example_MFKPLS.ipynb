{
  "cells": [
    {
      "cell_type": "code",
      "execution_count": null,
      "metadata": {
        "collapsed": false
      },
      "outputs": [],
      "source": [
        "%matplotlib inline"
      ]
    },
    {
      "cell_type": "markdown",
      "metadata": {},
      "source": [
        "\n# Use of Multi-Fidelity Kriging Partial Least Squares\n"
      ]
    },
    {
      "cell_type": "code",
      "execution_count": null,
      "metadata": {
        "collapsed": false
      },
      "outputs": [],
      "source": [
        "from smt.applications import MFKPLS,NestedLHS\nimport numpy as np\nimport otsmt\nimport openturns as ot"
      ]
    },
    {
      "cell_type": "markdown",
      "metadata": {},
      "source": [
        "| Definition of Initial data\n\n"
      ]
    },
    {
      "cell_type": "code",
      "execution_count": null,
      "metadata": {
        "collapsed": false
      },
      "outputs": [],
      "source": [
        "# Construction of the DOE\n# low fidelity model\ndef lf_function(x):\n\n    return (\n        0.5 * ((x * 6 - 2) ** 2) * np.sin((x * 6 - 2) * 2)\n        + (x - 0.5) * 10.0\n        - 5\n    )\n\n# high fidelity model\ndef hf_function(x):\n\n    return ((x * 6 - 2) ** 2) * np.sin((x * 6 - 2) * 2)\n\n# Problem set up\nxlimits = np.array([[0.0, 1.0]])\nxdoes = NestedLHS(nlevel=2, xlimits=xlimits, random_state=0)\nxt_c, xt_e = xdoes(7)\n\n# Evaluate the HF and LF functions\nyt_e = hf_function(xt_e)\nyt_c = lf_function(xt_c)\n\nxv_e = ot.Sample([[0.1],[0.5]])"
      ]
    },
    {
      "cell_type": "markdown",
      "metadata": {},
      "source": [
        "| Training of smt model for MFKPLS\n\n"
      ]
    },
    {
      "cell_type": "code",
      "execution_count": null,
      "metadata": {
        "collapsed": false
      },
      "outputs": [],
      "source": [
        "ncomp = 1\nsm_mfkpls = MFKPLS(n_comp=ncomp, theta0=ncomp * [1.0])\n\n# low-fidelity dataset names being integers from 0 to level-1\nsm_mfkpls.set_training_values(xt_c, yt_c, name=0)\n# high-fidelity dataset without name\nsm_mfkpls.set_training_values(xt_e, yt_e)\n\n# train the model\nsm_mfkpls.train()"
      ]
    },
    {
      "cell_type": "markdown",
      "metadata": {},
      "source": [
        "| Creation of OpenTurns PythonFunction for prediction\n\n"
      ]
    },
    {
      "cell_type": "code",
      "execution_count": null,
      "metadata": {
        "collapsed": false
      },
      "outputs": [],
      "source": [
        "otmfkpls = otsmt.smt2ot(sm_mfkpls)\notmfkplsprediction = otmfkpls.getPredictionFunction()\notmfkplspvariances = otmfkpls.getConditionalVarianceFunction()\notmfkplsfirstderivatives = otmfkpls.getPredictionDerivativesFunction(0)\n\nprint('Predicted values by MFKPLS:',otmfkplsprediction(xv_e))    \nprint('Predicted variances values by MFKPLS:',otmfkplspvariances(xv_e))    \nprint('Predicted mean first derivatives by MFKPLS:',otmfkplsfirstderivatives(xv_e))"
      ]
    }
  ],
  "metadata": {
    "kernelspec": {
      "display_name": "Python 3",
      "language": "python",
      "name": "python3"
    },
    "language_info": {
      "codemirror_mode": {
        "name": "ipython",
        "version": 3
      },
      "file_extension": ".py",
      "mimetype": "text/x-python",
      "name": "python",
      "nbconvert_exporter": "python",
      "pygments_lexer": "ipython3",
      "version": "3.9.13"
    }
  },
  "nbformat": 4,
  "nbformat_minor": 0
}